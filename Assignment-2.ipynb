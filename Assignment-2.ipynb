{
 "cells": [
  {
   "cell_type": "code",
   "execution_count": 3,
   "id": "0aa75016-fc35-410e-811d-434fdd3b4c0c",
   "metadata": {},
   "outputs": [],
   "source": [
    "import numpy as np\n"
   ]
  },
  {
   "cell_type": "markdown",
   "id": "30db5963-417b-4ff2-9679-e312b77ce45b",
   "metadata": {},
   "source": [
    "1.Array Creation\n"
   ]
  },
  {
   "cell_type": "markdown",
   "id": "904016c7-38d1-48c3-a2ac-baf0b1061299",
   "metadata": {},
   "source": [
    "Create a 1-dimensional array of integers from 1 to 10."
   ]
  },
  {
   "cell_type": "code",
   "execution_count": 4,
   "id": "f33a02a8-0757-4a86-86ae-d905f6b0396f",
   "metadata": {},
   "outputs": [
    {
     "data": {
      "text/plain": [
       "array([ 1,  2,  3,  4,  5,  6,  7,  8,  9, 10])"
      ]
     },
     "execution_count": 4,
     "metadata": {},
     "output_type": "execute_result"
    }
   ],
   "source": [
    "a=np.array(range(1,11))\n",
    "a"
   ]
  },
  {
   "cell_type": "markdown",
   "id": "057d9a6d-6120-4072-adf7-58235491d0f1",
   "metadata": {},
   "source": [
    "Create a 2-dimensional array with random float values of shape (3, 4)."
   ]
  },
  {
   "cell_type": "code",
   "execution_count": 7,
   "id": "ae45037a-a5c3-43b7-abe8-cafb225bb2bc",
   "metadata": {},
   "outputs": [
    {
     "data": {
      "text/plain": [
       "array([[0.2569908 , 0.2479606 , 0.72453459, 0.6140947 ],\n",
       "       [0.26580091, 0.21419366, 0.54590826, 0.14666763],\n",
       "       [0.30467581, 0.11453549, 0.66462492, 0.59844891]])"
      ]
     },
     "execution_count": 7,
     "metadata": {},
     "output_type": "execute_result"
    }
   ],
   "source": [
    "a=np.random.rand(3,4)\n",
    "a"
   ]
  },
  {
   "cell_type": "markdown",
   "id": "ce6783a0-793d-41df-8df2-eec6c296c9e5",
   "metadata": {},
   "source": [
    "Create a 3-dimensional array of zeros with shape (2, 3, 4)."
   ]
  },
  {
   "cell_type": "code",
   "execution_count": 9,
   "id": "efde763d-18ca-428f-aab2-48e9e8341e6f",
   "metadata": {},
   "outputs": [
    {
     "data": {
      "text/plain": [
       "array([[[0., 0., 0., 0.],\n",
       "        [0., 0., 0., 0.],\n",
       "        [0., 0., 0., 0.]],\n",
       "\n",
       "       [[0., 0., 0., 0.],\n",
       "        [0., 0., 0., 0.],\n",
       "        [0., 0., 0., 0.]]])"
      ]
     },
     "execution_count": 9,
     "metadata": {},
     "output_type": "execute_result"
    }
   ],
   "source": [
    "a=np.zeros((2,3,4))\n",
    "a"
   ]
  },
  {
   "cell_type": "markdown",
   "id": "1e205d74-5406-4c69-b1c5-e61814dfc9f9",
   "metadata": {},
   "source": [
    "Array Operations:"
   ]
  },
  {
   "cell_type": "markdown",
   "id": "0662dd12-84e8-4d56-9c01-69fab0687bc9",
   "metadata": {},
   "source": [
    "Given two 1-dimensional arrays, perform element-wise addition,\n",
    "subtraction, multiplication, and division."
   ]
  },
  {
   "cell_type": "code",
   "execution_count": 13,
   "id": "b06b80b9-dbfb-404f-8802-1d0c40a80abe",
   "metadata": {},
   "outputs": [
    {
     "name": "stdout",
     "output_type": "stream",
     "text": [
      "[ 3  7 12]\n",
      "[ 1 -1 -2]\n",
      "[ 2 12 35]\n",
      "[0.5        1.33333333 1.4       ]\n"
     ]
    }
   ],
   "source": [
    "a=np.array([1,4,7])\n",
    "b=np.array([2,3,5])\n",
    "c=a+b\n",
    "d=b-a\n",
    "e=b*a\n",
    "f=a/b\n",
    "print(c)\n",
    "print(d)\n",
    "print(e)\n",
    "print(f)"
   ]
  },
  {
   "cell_type": "markdown",
   "id": "34bead54-c9ff-4276-b85b-5dcda18c3cfc",
   "metadata": {},
   "source": [
    "Calculate the mean, median, and standard deviation of a given 1-\n",
    "dimensional array."
   ]
  },
  {
   "cell_type": "code",
   "execution_count": 15,
   "id": "a44dc0d6-dd70-4152-8747-ff210a4396d6",
   "metadata": {},
   "outputs": [
    {
     "name": "stdout",
     "output_type": "stream",
     "text": [
      "6.0\n",
      "6.0\n",
      "1.4142135623730951\n"
     ]
    }
   ],
   "source": [
    "a=np.array([4,5,6,7,8])\n",
    "b=np.mean(a)\n",
    "c=np.median(a)\n",
    "d=np.std(a)\n",
    "print(b)\n",
    "print(c)\n",
    "print(d)"
   ]
  },
  {
   "cell_type": "markdown",
   "id": "5f5f91c9-34f5-4804-abef-bd0ac5ebc0b6",
   "metadata": {},
   "source": [
    "Reshape a 1-dimensional array into a 2-dimensional array of shape (3,\n",
    "4)."
   ]
  },
  {
   "cell_type": "code",
   "execution_count": 18,
   "id": "55598ba7-6d38-41b0-8ec4-a81eb05e3c99",
   "metadata": {},
   "outputs": [
    {
     "data": {
      "text/plain": [
       "array([[ 1,  2,  3,  4],\n",
       "       [ 5,  6,  7,  8],\n",
       "       [ 9, 10, 11, 12]])"
      ]
     },
     "execution_count": 18,
     "metadata": {},
     "output_type": "execute_result"
    }
   ],
   "source": [
    "a=np.array(range(1,13))\n",
    "a.reshape(3,4)\n",
    "           "
   ]
  },
  {
   "cell_type": "markdown",
   "id": "f5d0c8bc-1d5f-428f-a4f5-2fe2fee35182",
   "metadata": {},
   "source": [
    "Array Indexing and Slicing:"
   ]
  },
  {
   "cell_type": "markdown",
   "id": "1008683a-7c6f-41b3-a318-f46bc65f11e0",
   "metadata": {},
   "source": [
    "Extract the first row and last column of a 2-dimensional array."
   ]
  },
  {
   "cell_type": "code",
   "execution_count": 23,
   "id": "542a80d0-a8e8-463c-a141-8be28f7a2cd9",
   "metadata": {},
   "outputs": [
    {
     "name": "stdout",
     "output_type": "stream",
     "text": [
      "[4 5 6]\n",
      "[6 9 3]\n"
     ]
    }
   ],
   "source": [
    "a=np.array([[4,5,6],[7,8,9],[1,2,3]])\n",
    "print(a[0])\n",
    "print(a[:,-1])\n"
   ]
  },
  {
   "cell_type": "markdown",
   "id": "813c70aa-d811-40db-8007-e9f0ef694e2c",
   "metadata": {},
   "source": [
    "Reverse the order of elements in a 1-dimensional array."
   ]
  },
  {
   "cell_type": "code",
   "execution_count": 25,
   "id": "eabacfd3-c187-4c2e-9075-54ff52b8503e",
   "metadata": {},
   "outputs": [
    {
     "name": "stdout",
     "output_type": "stream",
     "text": [
      "[8 7 6 5 4]\n"
     ]
    }
   ],
   "source": [
    "a=np.array([4,5,6,7,8])\n",
    "print(a[::-1])"
   ]
  },
  {
   "cell_type": "markdown",
   "id": "1fe2a76f-4b09-4d4f-93d5-60ae47f7c9e0",
   "metadata": {},
   "source": [
    "Select elements from a 2-dimensional array that satisfy a specific\n",
    "condition (e.g., values greater than a certain threshold)."
   ]
  },
  {
   "cell_type": "code",
   "execution_count": 26,
   "id": "b3dd7e88-b823-4d05-8298-f950d9dcfd2a",
   "metadata": {},
   "outputs": [
    {
     "data": {
      "text/plain": [
       "[4, 6, 8, 2]"
      ]
     },
     "execution_count": 26,
     "metadata": {},
     "output_type": "execute_result"
    }
   ],
   "source": [
    "a=np.array([[4,5,6],[7,8,9],[1,2,3]])\n",
    "b=[x for x in a.flatten() if x%2==0]\n",
    "b"
   ]
  },
  {
   "cell_type": "markdown",
   "id": "1f915742-5009-418e-88fb-b4dc42fc0c77",
   "metadata": {},
   "source": [
    "Array Broadcasting:"
   ]
  },
  {
   "cell_type": "markdown",
   "id": "43db39b8-1797-461b-8954-6c506d1456c0",
   "metadata": {},
   "source": [
    "Add a scalar value to each element of a 2-dimensional array."
   ]
  },
  {
   "cell_type": "code",
   "execution_count": 28,
   "id": "1f28577d-4441-4698-a23d-234a8985fe00",
   "metadata": {},
   "outputs": [
    {
     "data": {
      "text/plain": [
       "array([[ 8,  9, 10],\n",
       "       [11, 12, 13],\n",
       "       [ 5,  6,  7]])"
      ]
     },
     "execution_count": 28,
     "metadata": {},
     "output_type": "execute_result"
    }
   ],
   "source": [
    "a=np.array([[4,5,6],[7,8,9],[1,2,3]])\n",
    "b=a+4\n",
    "b"
   ]
  },
  {
   "cell_type": "markdown",
   "id": "af5f6e6f-3e23-4ec3-a27d-a4c36dc49728",
   "metadata": {},
   "source": [
    "Multiply a 1-dimensional array with a 2-dimensional array, leveraging\n",
    "NumPy's broadcasting rules."
   ]
  },
  {
   "cell_type": "code",
   "execution_count": 30,
   "id": "0c4d8d0c-f5dd-4533-82c1-60959bc55a70",
   "metadata": {},
   "outputs": [
    {
     "data": {
      "text/plain": [
       "array([[ 8, 15, 30],\n",
       "       [14, 24, 45],\n",
       "       [ 2,  6, 15]])"
      ]
     },
     "execution_count": 30,
     "metadata": {},
     "output_type": "execute_result"
    }
   ],
   "source": [
    "a=np.array([[4,5,6],[7,8,9],[1,2,3]])\n",
    "b=np.array([2,3,5])\n",
    "c=a*b\n",
    "c"
   ]
  },
  {
   "cell_type": "markdown",
   "id": "c26656ea-3060-4383-a702-15637d5b1ad6",
   "metadata": {},
   "source": [
    "Linear Algebra:"
   ]
  },
  {
   "cell_type": "markdown",
   "id": "1e6f7a95-929b-42d4-bb02-449275a43914",
   "metadata": {},
   "source": [
    "Calculate the dot product of two 1-dimensional arrays."
   ]
  },
  {
   "cell_type": "code",
   "execution_count": 33,
   "id": "894086a8-126b-4218-8e0f-c9629ddea763",
   "metadata": {},
   "outputs": [
    {
     "data": {
      "text/plain": [
       "array([[14, 19],\n",
       "       [13, 18]])"
      ]
     },
     "execution_count": 33,
     "metadata": {},
     "output_type": "execute_result"
    }
   ],
   "source": [
    "b=np.array([[2,3],[3,4]])\n",
    "a=np.array([[1,4],[2,3]])\n",
    "a.dot(b)"
   ]
  },
  {
   "cell_type": "markdown",
   "id": "f6ffe2dd-6225-4f9e-b096-4d4094817fbf",
   "metadata": {},
   "source": [
    "Compute the matrix multiplication of two 2-dimensional arrays."
   ]
  },
  {
   "cell_type": "code",
   "execution_count": 35,
   "id": "8e3a7365-f0cc-49d9-91e2-fb3f2e49418b",
   "metadata": {},
   "outputs": [
    {
     "data": {
      "text/plain": [
       "array([[14, 19],\n",
       "       [13, 18]])"
      ]
     },
     "execution_count": 35,
     "metadata": {},
     "output_type": "execute_result"
    }
   ],
   "source": [
    "np.matmul(a,b)"
   ]
  },
  {
   "cell_type": "markdown",
   "id": "9b8475e5-0b54-4538-949e-8b6079761a76",
   "metadata": {},
   "source": [
    "Find the inverse and determinant of a square matrix."
   ]
  },
  {
   "cell_type": "code",
   "execution_count": 6,
   "id": "e50b3c58-27b3-4c55-a90f-1ace4362fe43",
   "metadata": {},
   "outputs": [],
   "source": [
    "import numpy as np "
   ]
  },
  {
   "cell_type": "code",
   "execution_count": 8,
   "id": "de8591e3-10c8-4f5b-94f5-198c8765c3cb",
   "metadata": {},
   "outputs": [],
   "source": [
    "a=np.array([[1,4],[2,3]])"
   ]
  },
  {
   "cell_type": "code",
   "execution_count": 9,
   "id": "336c1a97-a2b1-4a83-9a4c-8d0a2e779e64",
   "metadata": {},
   "outputs": [
    {
     "data": {
      "text/plain": [
       "-5.000000000000001"
      ]
     },
     "execution_count": 9,
     "metadata": {},
     "output_type": "execute_result"
    }
   ],
   "source": [
    "d=np.linalg.det(a)\n",
    "d"
   ]
  },
  {
   "cell_type": "code",
   "execution_count": 10,
   "id": "e60ffdbc-6b59-444a-9f3d-21f2ce79fd72",
   "metadata": {},
   "outputs": [
    {
     "data": {
      "text/plain": [
       "array([[-0.6,  0.8],\n",
       "       [ 0.4, -0.2]])"
      ]
     },
     "execution_count": 10,
     "metadata": {},
     "output_type": "execute_result"
    }
   ],
   "source": [
    "c=np.linalg.inv(a)\n",
    "c"
   ]
  }
 ],
 "metadata": {
  "kernelspec": {
   "display_name": "Python 3 (ipykernel)",
   "language": "python",
   "name": "python3"
  },
  "language_info": {
   "codemirror_mode": {
    "name": "ipython",
    "version": 3
   },
   "file_extension": ".py",
   "mimetype": "text/x-python",
   "name": "python",
   "nbconvert_exporter": "python",
   "pygments_lexer": "ipython3",
   "version": "3.11.7"
  }
 },
 "nbformat": 4,
 "nbformat_minor": 5
}
